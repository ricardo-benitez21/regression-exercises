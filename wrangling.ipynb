{
 "cells": [
  {
   "cell_type": "code",
   "execution_count": 1,
   "id": "690bfad6-bf6b-42cd-a6cb-e36f58da7619",
   "metadata": {
    "tags": []
   },
   "outputs": [],
   "source": [
    "import warnings\n",
    "warnings.filterwarnings(\"ignore\")\n",
    "\n",
    "import pandas as pd\n",
    "import matplotlib.pyplot as plt\n",
    "import seaborn as sns\n",
    "import numpy as np\n",
    "import env\n",
    "import os\n",
    "import wrangle as w"
   ]
  },
  {
   "cell_type": "markdown",
   "id": "fae981f2-cf55-4d95-8ee1-9a6acbb80e04",
   "metadata": {},
   "source": [
    "## 1. Acquire bedroomcnt, bathroomcnt, calculatedfinishedsquarefeet, taxvaluedollarcnt, yearbuilt, taxamount, and fips from the zillow database for all 'Single Family Residential' properties."
   ]
  },
  {
   "cell_type": "code",
   "execution_count": 2,
   "id": "b1ecf0c5-92ea-4bbe-a9ac-f7ea5473f89b",
   "metadata": {},
   "outputs": [],
   "source": [
    "#creating the connection to zillow\n",
    "url = env.get_db_url('zillow')"
   ]
  },
  {
   "cell_type": "code",
   "execution_count": 3,
   "id": "b73cdad1-01cb-44bd-a7d6-7af5c96925e5",
   "metadata": {
    "tags": []
   },
   "outputs": [],
   "source": [
    "#creating the query\n",
    "zillow_query = '''\n",
    "    SELECT bedroomcnt, bathroomcnt, calculatedfinishedsquarefeet, taxvaluedollarcnt, yearbuilt, taxamount, fips\n",
    "    FROM properties_2017\n",
    "    WHERE propertylandusetypeid = 261\n",
    "    LIMIT 100'''"
   ]
  },
  {
   "cell_type": "code",
   "execution_count": 4,
   "id": "2b3fb58b-b19f-4107-9fb9-a236df80df52",
   "metadata": {
    "tags": []
   },
   "outputs": [
    {
     "data": {
      "text/html": [
       "<div>\n",
       "<style scoped>\n",
       "    .dataframe tbody tr th:only-of-type {\n",
       "        vertical-align: middle;\n",
       "    }\n",
       "\n",
       "    .dataframe tbody tr th {\n",
       "        vertical-align: top;\n",
       "    }\n",
       "\n",
       "    .dataframe thead th {\n",
       "        text-align: right;\n",
       "    }\n",
       "</style>\n",
       "<table border=\"1\" class=\"dataframe\">\n",
       "  <thead>\n",
       "    <tr style=\"text-align: right;\">\n",
       "      <th></th>\n",
       "      <th>bedroomcnt</th>\n",
       "      <th>bathroomcnt</th>\n",
       "      <th>calculatedfinishedsquarefeet</th>\n",
       "      <th>taxvaluedollarcnt</th>\n",
       "      <th>yearbuilt</th>\n",
       "      <th>taxamount</th>\n",
       "      <th>fips</th>\n",
       "    </tr>\n",
       "  </thead>\n",
       "  <tbody>\n",
       "    <tr>\n",
       "      <th>0</th>\n",
       "      <td>0.0</td>\n",
       "      <td>0.0</td>\n",
       "      <td>NaN</td>\n",
       "      <td>27516.0</td>\n",
       "      <td>NaN</td>\n",
       "      <td>NaN</td>\n",
       "      <td>6037.0</td>\n",
       "    </tr>\n",
       "    <tr>\n",
       "      <th>1</th>\n",
       "      <td>0.0</td>\n",
       "      <td>0.0</td>\n",
       "      <td>NaN</td>\n",
       "      <td>10.0</td>\n",
       "      <td>NaN</td>\n",
       "      <td>NaN</td>\n",
       "      <td>6037.0</td>\n",
       "    </tr>\n",
       "    <tr>\n",
       "      <th>2</th>\n",
       "      <td>0.0</td>\n",
       "      <td>0.0</td>\n",
       "      <td>NaN</td>\n",
       "      <td>10.0</td>\n",
       "      <td>NaN</td>\n",
       "      <td>NaN</td>\n",
       "      <td>6037.0</td>\n",
       "    </tr>\n",
       "    <tr>\n",
       "      <th>3</th>\n",
       "      <td>0.0</td>\n",
       "      <td>0.0</td>\n",
       "      <td>NaN</td>\n",
       "      <td>2108.0</td>\n",
       "      <td>NaN</td>\n",
       "      <td>174.21</td>\n",
       "      <td>6037.0</td>\n",
       "    </tr>\n",
       "    <tr>\n",
       "      <th>4</th>\n",
       "      <td>4.0</td>\n",
       "      <td>2.0</td>\n",
       "      <td>3633.0</td>\n",
       "      <td>296425.0</td>\n",
       "      <td>2005.0</td>\n",
       "      <td>6941.39</td>\n",
       "      <td>6037.0</td>\n",
       "    </tr>\n",
       "  </tbody>\n",
       "</table>\n",
       "</div>"
      ],
      "text/plain": [
       "   bedroomcnt  bathroomcnt  calculatedfinishedsquarefeet  taxvaluedollarcnt  \\\n",
       "0         0.0          0.0                           NaN            27516.0   \n",
       "1         0.0          0.0                           NaN               10.0   \n",
       "2         0.0          0.0                           NaN               10.0   \n",
       "3         0.0          0.0                           NaN             2108.0   \n",
       "4         4.0          2.0                        3633.0           296425.0   \n",
       "\n",
       "   yearbuilt  taxamount    fips  \n",
       "0        NaN        NaN  6037.0  \n",
       "1        NaN        NaN  6037.0  \n",
       "2        NaN        NaN  6037.0  \n",
       "3        NaN     174.21  6037.0  \n",
       "4     2005.0    6941.39  6037.0  "
      ]
     },
     "execution_count": 4,
     "metadata": {},
     "output_type": "execute_result"
    }
   ],
   "source": [
    "#acquire zillow data\n",
    "zillow_sample = pd.read_sql(zillow_query, url)\n",
    "zillow_sample.head()"
   ]
  },
  {
   "cell_type": "code",
   "execution_count": 5,
   "id": "1cdb88a8-7728-4891-9141-9c10c8a36c42",
   "metadata": {
    "tags": []
   },
   "outputs": [],
   "source": [
    "def get_zillow_data():\n",
    "    filename = \"zillow.csv\"\n",
    "\n",
    "    if os.path.isfile(filename):\n",
    "\n",
    "        return pd.read_csv(filename, index_col=0)\n",
    "    else:\n",
    "        # Create the url\n",
    "        url = env.get_db_url('zillow')\n",
    "        \n",
    "        sql_query = '''\n",
    "            SELECT bedroomcnt, bathroomcnt, calculatedfinishedsquarefeet, taxvaluedollarcnt, yearbuilt, taxamount, fips\n",
    "            FROM properties_2017\n",
    "            WHERE propertylandusetypeid = 261'''\n",
    "\n",
    "        # Read the SQL query into a dataframe\n",
    "        df = pd.read_sql(sql_query, url)\n",
    "\n",
    "        # Write that dataframe to disk for later. Called \"caching\" the data for later.\n",
    "        df.to_csv(filename)\n",
    "\n",
    "        # Return the dataframe to the calling code\n",
    "        return df"
   ]
  },
  {
   "cell_type": "code",
   "execution_count": 6,
   "id": "98977a14-3523-402b-a31a-e7ea9a627a7c",
   "metadata": {
    "tags": []
   },
   "outputs": [],
   "source": [
    "df = get_zillow_data()"
   ]
  },
  {
   "cell_type": "code",
   "execution_count": 7,
   "id": "1beb7896-46b0-4b32-916f-5d8a2af83b98",
   "metadata": {
    "tags": []
   },
   "outputs": [
    {
     "data": {
      "text/html": [
       "<div>\n",
       "<style scoped>\n",
       "    .dataframe tbody tr th:only-of-type {\n",
       "        vertical-align: middle;\n",
       "    }\n",
       "\n",
       "    .dataframe tbody tr th {\n",
       "        vertical-align: top;\n",
       "    }\n",
       "\n",
       "    .dataframe thead th {\n",
       "        text-align: right;\n",
       "    }\n",
       "</style>\n",
       "<table border=\"1\" class=\"dataframe\">\n",
       "  <thead>\n",
       "    <tr style=\"text-align: right;\">\n",
       "      <th></th>\n",
       "      <th>bedroomcnt</th>\n",
       "      <th>bathroomcnt</th>\n",
       "      <th>calculatedfinishedsquarefeet</th>\n",
       "      <th>taxvaluedollarcnt</th>\n",
       "      <th>yearbuilt</th>\n",
       "      <th>taxamount</th>\n",
       "      <th>fips</th>\n",
       "    </tr>\n",
       "  </thead>\n",
       "  <tbody>\n",
       "    <tr>\n",
       "      <th>0</th>\n",
       "      <td>0.0</td>\n",
       "      <td>0.0</td>\n",
       "      <td>NaN</td>\n",
       "      <td>27516.0</td>\n",
       "      <td>NaN</td>\n",
       "      <td>NaN</td>\n",
       "      <td>6037.0</td>\n",
       "    </tr>\n",
       "    <tr>\n",
       "      <th>1</th>\n",
       "      <td>0.0</td>\n",
       "      <td>0.0</td>\n",
       "      <td>NaN</td>\n",
       "      <td>10.0</td>\n",
       "      <td>NaN</td>\n",
       "      <td>NaN</td>\n",
       "      <td>6037.0</td>\n",
       "    </tr>\n",
       "    <tr>\n",
       "      <th>2</th>\n",
       "      <td>0.0</td>\n",
       "      <td>0.0</td>\n",
       "      <td>NaN</td>\n",
       "      <td>10.0</td>\n",
       "      <td>NaN</td>\n",
       "      <td>NaN</td>\n",
       "      <td>6037.0</td>\n",
       "    </tr>\n",
       "    <tr>\n",
       "      <th>3</th>\n",
       "      <td>0.0</td>\n",
       "      <td>0.0</td>\n",
       "      <td>NaN</td>\n",
       "      <td>2108.0</td>\n",
       "      <td>NaN</td>\n",
       "      <td>174.21</td>\n",
       "      <td>6037.0</td>\n",
       "    </tr>\n",
       "    <tr>\n",
       "      <th>4</th>\n",
       "      <td>4.0</td>\n",
       "      <td>2.0</td>\n",
       "      <td>3633.0</td>\n",
       "      <td>296425.0</td>\n",
       "      <td>2005.0</td>\n",
       "      <td>6941.39</td>\n",
       "      <td>6037.0</td>\n",
       "    </tr>\n",
       "  </tbody>\n",
       "</table>\n",
       "</div>"
      ],
      "text/plain": [
       "   bedroomcnt  bathroomcnt  calculatedfinishedsquarefeet  taxvaluedollarcnt  \\\n",
       "0         0.0          0.0                           NaN            27516.0   \n",
       "1         0.0          0.0                           NaN               10.0   \n",
       "2         0.0          0.0                           NaN               10.0   \n",
       "3         0.0          0.0                           NaN             2108.0   \n",
       "4         4.0          2.0                        3633.0           296425.0   \n",
       "\n",
       "   yearbuilt  taxamount    fips  \n",
       "0        NaN        NaN  6037.0  \n",
       "1        NaN        NaN  6037.0  \n",
       "2        NaN        NaN  6037.0  \n",
       "3        NaN     174.21  6037.0  \n",
       "4     2005.0    6941.39  6037.0  "
      ]
     },
     "execution_count": 7,
     "metadata": {},
     "output_type": "execute_result"
    }
   ],
   "source": [
    "df.head()"
   ]
  },
  {
   "cell_type": "code",
   "execution_count": 8,
   "id": "dfa777b7-b451-4d9b-83a0-ede24887057f",
   "metadata": {
    "tags": []
   },
   "outputs": [
    {
     "data": {
      "text/plain": [
       "(2152863, 7)"
      ]
     },
     "execution_count": 8,
     "metadata": {},
     "output_type": "execute_result"
    }
   ],
   "source": [
    "df.shape"
   ]
  },
  {
   "cell_type": "code",
   "execution_count": 9,
   "id": "a276010f-7d59-4f3f-b20e-f23c22d2d88b",
   "metadata": {
    "tags": []
   },
   "outputs": [
    {
     "data": {
      "text/plain": [
       "bedroomcnt                      float64\n",
       "bathroomcnt                     float64\n",
       "calculatedfinishedsquarefeet    float64\n",
       "taxvaluedollarcnt               float64\n",
       "yearbuilt                       float64\n",
       "taxamount                       float64\n",
       "fips                            float64\n",
       "dtype: object"
      ]
     },
     "execution_count": 9,
     "metadata": {},
     "output_type": "execute_result"
    }
   ],
   "source": [
    "df.dtypes"
   ]
  },
  {
   "cell_type": "markdown",
   "id": "a98ee40d-296a-429c-be16-50335352afea",
   "metadata": {
    "tags": []
   },
   "source": [
    "## #2. Using your acquired Zillow data, walk through the summarization and cleaning steps in your `wrangle.ipynb` file like we did above. You may handle the missing values however you feel is appropriate and meaningful; remember to document your process and decisions using markdown and code commenting where helpful."
   ]
  },
  {
   "cell_type": "code",
   "execution_count": 10,
   "id": "96083782-726d-4028-a3fb-6eaacb2b2021",
   "metadata": {
    "tags": []
   },
   "outputs": [
    {
     "name": "stdout",
     "output_type": "stream",
     "text": [
      "<class 'pandas.core.frame.DataFrame'>\n",
      "Index: 2152863 entries, 0 to 2152862\n",
      "Data columns (total 7 columns):\n",
      " #   Column                        Dtype  \n",
      "---  ------                        -----  \n",
      " 0   bedroomcnt                    float64\n",
      " 1   bathroomcnt                   float64\n",
      " 2   calculatedfinishedsquarefeet  float64\n",
      " 3   taxvaluedollarcnt             float64\n",
      " 4   yearbuilt                     float64\n",
      " 5   taxamount                     float64\n",
      " 6   fips                          float64\n",
      "dtypes: float64(7)\n",
      "memory usage: 131.4 MB\n"
     ]
    }
   ],
   "source": [
    "#datatypes, nulls and column names\n",
    "df.info()"
   ]
  },
  {
   "cell_type": "code",
   "execution_count": 11,
   "id": "4abc6ba0-ebf6-48fd-90f9-ac604d0a39a4",
   "metadata": {
    "tags": []
   },
   "outputs": [
    {
     "name": "stdout",
     "output_type": "stream",
     "text": [
      "<class 'pandas.core.frame.DataFrame'>\n",
      "Index: 2152863 entries, 0 to 2152862\n",
      "Data columns (total 7 columns):\n",
      " #   Column                        Non-Null Count    Dtype  \n",
      "---  ------                        --------------    -----  \n",
      " 0   bedroomcnt                    2152852 non-null  float64\n",
      " 1   bathroomcnt                   2152852 non-null  float64\n",
      " 2   calculatedfinishedsquarefeet  2144379 non-null  float64\n",
      " 3   taxvaluedollarcnt             2152370 non-null  float64\n",
      " 4   yearbuilt                     2143526 non-null  float64\n",
      " 5   taxamount                     2148421 non-null  float64\n",
      " 6   fips                          2152863 non-null  float64\n",
      "dtypes: float64(7)\n",
      "memory usage: 131.4 MB\n"
     ]
    }
   ],
   "source": [
    "df.info(verbose=True, show_counts=True)"
   ]
  },
  {
   "cell_type": "code",
   "execution_count": 12,
   "id": "26f3a4f1-0676-4a06-b426-8378a9c2aa20",
   "metadata": {
    "tags": []
   },
   "outputs": [
    {
     "data": {
      "text/html": [
       "<div>\n",
       "<style scoped>\n",
       "    .dataframe tbody tr th:only-of-type {\n",
       "        vertical-align: middle;\n",
       "    }\n",
       "\n",
       "    .dataframe tbody tr th {\n",
       "        vertical-align: top;\n",
       "    }\n",
       "\n",
       "    .dataframe thead th {\n",
       "        text-align: right;\n",
       "    }\n",
       "</style>\n",
       "<table border=\"1\" class=\"dataframe\">\n",
       "  <thead>\n",
       "    <tr style=\"text-align: right;\">\n",
       "      <th></th>\n",
       "      <th>count</th>\n",
       "      <th>mean</th>\n",
       "      <th>std</th>\n",
       "      <th>min</th>\n",
       "      <th>25%</th>\n",
       "      <th>50%</th>\n",
       "      <th>75%</th>\n",
       "      <th>max</th>\n",
       "    </tr>\n",
       "  </thead>\n",
       "  <tbody>\n",
       "    <tr>\n",
       "      <th>bedroomcnt</th>\n",
       "      <td>2152852.0</td>\n",
       "      <td>3.287196</td>\n",
       "      <td>0.954754</td>\n",
       "      <td>0.00</td>\n",
       "      <td>3.00</td>\n",
       "      <td>3.00</td>\n",
       "      <td>4.00</td>\n",
       "      <td>25.00</td>\n",
       "    </tr>\n",
       "    <tr>\n",
       "      <th>bathroomcnt</th>\n",
       "      <td>2152852.0</td>\n",
       "      <td>2.230688</td>\n",
       "      <td>0.999280</td>\n",
       "      <td>0.00</td>\n",
       "      <td>2.00</td>\n",
       "      <td>2.00</td>\n",
       "      <td>3.00</td>\n",
       "      <td>32.00</td>\n",
       "    </tr>\n",
       "    <tr>\n",
       "      <th>calculatedfinishedsquarefeet</th>\n",
       "      <td>2144379.0</td>\n",
       "      <td>1862.855178</td>\n",
       "      <td>1222.125124</td>\n",
       "      <td>1.00</td>\n",
       "      <td>1257.00</td>\n",
       "      <td>1623.00</td>\n",
       "      <td>2208.00</td>\n",
       "      <td>952576.00</td>\n",
       "    </tr>\n",
       "    <tr>\n",
       "      <th>taxvaluedollarcnt</th>\n",
       "      <td>2152370.0</td>\n",
       "      <td>461896.237963</td>\n",
       "      <td>699676.049600</td>\n",
       "      <td>1.00</td>\n",
       "      <td>188170.25</td>\n",
       "      <td>327671.00</td>\n",
       "      <td>534527.00</td>\n",
       "      <td>98428909.00</td>\n",
       "    </tr>\n",
       "    <tr>\n",
       "      <th>yearbuilt</th>\n",
       "      <td>2143526.0</td>\n",
       "      <td>1960.949681</td>\n",
       "      <td>22.162196</td>\n",
       "      <td>1801.00</td>\n",
       "      <td>1949.00</td>\n",
       "      <td>1958.00</td>\n",
       "      <td>1976.00</td>\n",
       "      <td>2016.00</td>\n",
       "    </tr>\n",
       "    <tr>\n",
       "      <th>taxamount</th>\n",
       "      <td>2148421.0</td>\n",
       "      <td>5634.865978</td>\n",
       "      <td>8178.910249</td>\n",
       "      <td>1.85</td>\n",
       "      <td>2534.98</td>\n",
       "      <td>4108.95</td>\n",
       "      <td>6414.32</td>\n",
       "      <td>1337755.86</td>\n",
       "    </tr>\n",
       "    <tr>\n",
       "      <th>fips</th>\n",
       "      <td>2152863.0</td>\n",
       "      <td>6048.377335</td>\n",
       "      <td>20.433292</td>\n",
       "      <td>6037.00</td>\n",
       "      <td>6037.00</td>\n",
       "      <td>6037.00</td>\n",
       "      <td>6059.00</td>\n",
       "      <td>6111.00</td>\n",
       "    </tr>\n",
       "  </tbody>\n",
       "</table>\n",
       "</div>"
      ],
      "text/plain": [
       "                                  count           mean            std  \\\n",
       "bedroomcnt                    2152852.0       3.287196       0.954754   \n",
       "bathroomcnt                   2152852.0       2.230688       0.999280   \n",
       "calculatedfinishedsquarefeet  2144379.0    1862.855178    1222.125124   \n",
       "taxvaluedollarcnt             2152370.0  461896.237963  699676.049600   \n",
       "yearbuilt                     2143526.0    1960.949681      22.162196   \n",
       "taxamount                     2148421.0    5634.865978    8178.910249   \n",
       "fips                          2152863.0    6048.377335      20.433292   \n",
       "\n",
       "                                  min        25%        50%        75%  \\\n",
       "bedroomcnt                       0.00       3.00       3.00       4.00   \n",
       "bathroomcnt                      0.00       2.00       2.00       3.00   \n",
       "calculatedfinishedsquarefeet     1.00    1257.00    1623.00    2208.00   \n",
       "taxvaluedollarcnt                1.00  188170.25  327671.00  534527.00   \n",
       "yearbuilt                     1801.00    1949.00    1958.00    1976.00   \n",
       "taxamount                        1.85    2534.98    4108.95    6414.32   \n",
       "fips                          6037.00    6037.00    6037.00    6059.00   \n",
       "\n",
       "                                      max  \n",
       "bedroomcnt                          25.00  \n",
       "bathroomcnt                         32.00  \n",
       "calculatedfinishedsquarefeet    952576.00  \n",
       "taxvaluedollarcnt             98428909.00  \n",
       "yearbuilt                         2016.00  \n",
       "taxamount                      1337755.86  \n",
       "fips                              6111.00  "
      ]
     },
     "execution_count": 12,
     "metadata": {},
     "output_type": "execute_result"
    }
   ],
   "source": [
    "#stats summary of numeric values\n",
    "df.describe().T"
   ]
  },
  {
   "cell_type": "code",
   "execution_count": 13,
   "id": "20a40f4c-ca48-4f1f-91a4-2e468ea6c2e6",
   "metadata": {
    "tags": []
   },
   "outputs": [
    {
     "data": {
      "text/plain": [
       "bedroomcnt                      float64\n",
       "bathroomcnt                     float64\n",
       "calculatedfinishedsquarefeet    float64\n",
       "taxvaluedollarcnt               float64\n",
       "yearbuilt                       float64\n",
       "taxamount                       float64\n",
       "fips                            float64\n",
       "dtype: object"
      ]
     },
     "execution_count": 13,
     "metadata": {},
     "output_type": "execute_result"
    }
   ],
   "source": [
    "#what dataypes do we have?\n",
    "df.dtypes"
   ]
  },
  {
   "cell_type": "code",
   "execution_count": 14,
   "id": "f4a1a553-208f-4cfc-bce9-8dbdcf085dcc",
   "metadata": {
    "tags": []
   },
   "outputs": [
    {
     "data": {
      "text/plain": [
       "(2152863, 7)"
      ]
     },
     "execution_count": 14,
     "metadata": {},
     "output_type": "execute_result"
    }
   ],
   "source": [
    "df.shape"
   ]
  },
  {
   "cell_type": "code",
   "execution_count": 15,
   "id": "d9888234-f7a3-4663-90e2-29ff291de294",
   "metadata": {
    "tags": []
   },
   "outputs": [
    {
     "data": {
      "text/plain": [
       "fips\n",
       "6037.0    1431811\n",
       "6059.0     555077\n",
       "6111.0     165975\n",
       "Name: count, dtype: int64"
      ]
     },
     "execution_count": 15,
     "metadata": {},
     "output_type": "execute_result"
    }
   ],
   "source": [
    "#what does fips mean?\n",
    "#how is that distributed?\n",
    "df.fips.value_counts()"
   ]
  },
  {
   "cell_type": "markdown",
   "id": "f6798c73-a99e-4066-a0f0-9701372242ca",
   "metadata": {},
   "source": [
    "<hr style=\"border:1px solid grey\">"
   ]
  },
  {
   "cell_type": "markdown",
   "id": "554dc27b-757e-479d-bc85-bf8208c68120",
   "metadata": {},
   "source": [
    "### Clean the Columns"
   ]
  },
  {
   "cell_type": "code",
   "execution_count": 16,
   "id": "eced73a8-c503-4a80-9a99-a790f2ac6735",
   "metadata": {
    "tags": []
   },
   "outputs": [
    {
     "data": {
      "text/plain": [
       "['bedroomcnt',\n",
       " 'bathroomcnt',\n",
       " 'calculatedfinishedsquarefeet',\n",
       " 'taxvaluedollarcnt',\n",
       " 'yearbuilt',\n",
       " 'taxamount',\n",
       " 'fips']"
      ]
     },
     "execution_count": 16,
     "metadata": {},
     "output_type": "execute_result"
    }
   ],
   "source": [
    "#look at the column names\n",
    "df.columns.to_list()"
   ]
  },
  {
   "cell_type": "code",
   "execution_count": 17,
   "id": "8a583642-2c4a-4db1-b907-1ba402c405af",
   "metadata": {
    "tags": []
   },
   "outputs": [],
   "source": [
    "#let's make this more readable\n",
    "df = df.rename(columns={'bedroomcnt':'bedrooms',\n",
    "                  'bathroomcnt':'bathrooms',\n",
    "                  'calculatedfinishedsquarefeet':'area',\n",
    "                  'taxvaluedollarcnt':'taxvalue',\n",
    "                  'fips':'county'})"
   ]
  },
  {
   "cell_type": "code",
   "execution_count": 18,
   "id": "d81d943f-64d8-414c-81b1-7eac1c1b1ed5",
   "metadata": {
    "tags": []
   },
   "outputs": [
    {
     "data": {
      "text/html": [
       "<div>\n",
       "<style scoped>\n",
       "    .dataframe tbody tr th:only-of-type {\n",
       "        vertical-align: middle;\n",
       "    }\n",
       "\n",
       "    .dataframe tbody tr th {\n",
       "        vertical-align: top;\n",
       "    }\n",
       "\n",
       "    .dataframe thead th {\n",
       "        text-align: right;\n",
       "    }\n",
       "</style>\n",
       "<table border=\"1\" class=\"dataframe\">\n",
       "  <thead>\n",
       "    <tr style=\"text-align: right;\">\n",
       "      <th></th>\n",
       "      <th>bedrooms</th>\n",
       "      <th>bathrooms</th>\n",
       "      <th>area</th>\n",
       "      <th>taxvalue</th>\n",
       "      <th>yearbuilt</th>\n",
       "      <th>taxamount</th>\n",
       "      <th>county</th>\n",
       "    </tr>\n",
       "  </thead>\n",
       "  <tbody>\n",
       "    <tr>\n",
       "      <th>0</th>\n",
       "      <td>0.0</td>\n",
       "      <td>0.0</td>\n",
       "      <td>NaN</td>\n",
       "      <td>27516.0</td>\n",
       "      <td>NaN</td>\n",
       "      <td>NaN</td>\n",
       "      <td>6037.0</td>\n",
       "    </tr>\n",
       "    <tr>\n",
       "      <th>1</th>\n",
       "      <td>0.0</td>\n",
       "      <td>0.0</td>\n",
       "      <td>NaN</td>\n",
       "      <td>10.0</td>\n",
       "      <td>NaN</td>\n",
       "      <td>NaN</td>\n",
       "      <td>6037.0</td>\n",
       "    </tr>\n",
       "    <tr>\n",
       "      <th>2</th>\n",
       "      <td>0.0</td>\n",
       "      <td>0.0</td>\n",
       "      <td>NaN</td>\n",
       "      <td>10.0</td>\n",
       "      <td>NaN</td>\n",
       "      <td>NaN</td>\n",
       "      <td>6037.0</td>\n",
       "    </tr>\n",
       "    <tr>\n",
       "      <th>3</th>\n",
       "      <td>0.0</td>\n",
       "      <td>0.0</td>\n",
       "      <td>NaN</td>\n",
       "      <td>2108.0</td>\n",
       "      <td>NaN</td>\n",
       "      <td>174.21</td>\n",
       "      <td>6037.0</td>\n",
       "    </tr>\n",
       "    <tr>\n",
       "      <th>4</th>\n",
       "      <td>4.0</td>\n",
       "      <td>2.0</td>\n",
       "      <td>3633.0</td>\n",
       "      <td>296425.0</td>\n",
       "      <td>2005.0</td>\n",
       "      <td>6941.39</td>\n",
       "      <td>6037.0</td>\n",
       "    </tr>\n",
       "  </tbody>\n",
       "</table>\n",
       "</div>"
      ],
      "text/plain": [
       "   bedrooms  bathrooms    area  taxvalue  yearbuilt  taxamount  county\n",
       "0       0.0        0.0     NaN   27516.0        NaN        NaN  6037.0\n",
       "1       0.0        0.0     NaN      10.0        NaN        NaN  6037.0\n",
       "2       0.0        0.0     NaN      10.0        NaN        NaN  6037.0\n",
       "3       0.0        0.0     NaN    2108.0        NaN     174.21  6037.0\n",
       "4       4.0        2.0  3633.0  296425.0     2005.0    6941.39  6037.0"
      ]
     },
     "execution_count": 18,
     "metadata": {},
     "output_type": "execute_result"
    }
   ],
   "source": [
    "df.head()"
   ]
  },
  {
   "cell_type": "markdown",
   "id": "097053a3-cc30-4417-9408-8a49de37a514",
   "metadata": {},
   "source": [
    "<hr style=\"border:1px solid grey\">"
   ]
  },
  {
   "cell_type": "code",
   "execution_count": 19,
   "id": "461ce4e8-2fa0-405d-a9ff-778426601a6d",
   "metadata": {
    "tags": []
   },
   "outputs": [],
   "source": [
    "#let's turn our column values into a list\n",
    "col = df.columns.to_list()"
   ]
  },
  {
   "cell_type": "code",
   "execution_count": 20,
   "id": "25f5b3a6-f87e-4257-952b-50ab165f41b5",
   "metadata": {
    "tags": []
   },
   "outputs": [
    {
     "data": {
      "text/plain": [
       "bedrooms       11\n",
       "bathrooms      11\n",
       "area         8484\n",
       "taxvalue      493\n",
       "yearbuilt    9337\n",
       "taxamount    4442\n",
       "county          0\n",
       "dtype: int64"
      ]
     },
     "execution_count": 20,
     "metadata": {},
     "output_type": "execute_result"
    }
   ],
   "source": [
    "#are we dealing with any nulls?\n",
    "num_missing = df[col].isna().sum()\n",
    "num_missing"
   ]
  },
  {
   "cell_type": "code",
   "execution_count": 21,
   "id": "219ec308-322e-455d-86d4-78c23c5c18a6",
   "metadata": {
    "tags": []
   },
   "outputs": [
    {
     "data": {
      "text/plain": [
       "bedrooms     0.000005\n",
       "bathrooms    0.000005\n",
       "area         0.003941\n",
       "taxvalue     0.000229\n",
       "yearbuilt    0.004337\n",
       "taxamount    0.002063\n",
       "county       0.000000\n",
       "dtype: float64"
      ]
     },
     "execution_count": 21,
     "metadata": {},
     "output_type": "execute_result"
    }
   ],
   "source": [
    "#what percent of my entire dataset is this?\n",
    "pct_missing = num_missing / df.shape[0]\n",
    "pct_missing"
   ]
  },
  {
   "cell_type": "code",
   "execution_count": 22,
   "id": "5c5a90ce-1e09-433a-8d63-413af1495df9",
   "metadata": {
    "tags": []
   },
   "outputs": [],
   "source": [
    "#to drop nulls in specific columns\n",
    "#df.dropna(subset=['bedrooms', 'bathrooms'])"
   ]
  },
  {
   "cell_type": "code",
   "execution_count": 23,
   "id": "86ac114c-3f98-4162-a502-c4163f377c79",
   "metadata": {
    "tags": []
   },
   "outputs": [],
   "source": [
    "#let's drop those null values\n",
    "df = df.dropna()"
   ]
  },
  {
   "cell_type": "code",
   "execution_count": 24,
   "id": "f20cc0a4-37d3-49bf-a118-5266cd2f58b1",
   "metadata": {
    "tags": []
   },
   "outputs": [
    {
     "data": {
      "text/plain": [
       "bedrooms     0\n",
       "bathrooms    0\n",
       "area         0\n",
       "taxvalue     0\n",
       "yearbuilt    0\n",
       "taxamount    0\n",
       "county       0\n",
       "dtype: int64"
      ]
     },
     "execution_count": 24,
     "metadata": {},
     "output_type": "execute_result"
    }
   ],
   "source": [
    "#confirm our changes were made\n",
    "df.isnull().sum()"
   ]
  },
  {
   "cell_type": "markdown",
   "id": "e6a3c9bf-7d25-40ca-962a-130be4cec9f5",
   "metadata": {},
   "source": [
    "<hr style=\"border:1px solid grey\">"
   ]
  },
  {
   "cell_type": "code",
   "execution_count": 25,
   "id": "3a1511cf-62df-48b7-8267-cb10a219e2cf",
   "metadata": {
    "tags": []
   },
   "outputs": [
    {
     "data": {
      "text/plain": [
       "bedrooms     float64\n",
       "bathrooms    float64\n",
       "area         float64\n",
       "taxvalue     float64\n",
       "yearbuilt    float64\n",
       "taxamount    float64\n",
       "county       float64\n",
       "dtype: object"
      ]
     },
     "execution_count": 25,
     "metadata": {},
     "output_type": "execute_result"
    }
   ],
   "source": [
    "df.dtypes"
   ]
  },
  {
   "cell_type": "code",
   "execution_count": 26,
   "id": "c2ff2d8f-6b80-4aaf-aaae-43e53956404c",
   "metadata": {
    "tags": []
   },
   "outputs": [
    {
     "data": {
      "text/html": [
       "<div>\n",
       "<style scoped>\n",
       "    .dataframe tbody tr th:only-of-type {\n",
       "        vertical-align: middle;\n",
       "    }\n",
       "\n",
       "    .dataframe tbody tr th {\n",
       "        vertical-align: top;\n",
       "    }\n",
       "\n",
       "    .dataframe thead th {\n",
       "        text-align: right;\n",
       "    }\n",
       "</style>\n",
       "<table border=\"1\" class=\"dataframe\">\n",
       "  <thead>\n",
       "    <tr style=\"text-align: right;\">\n",
       "      <th></th>\n",
       "      <th>bedrooms</th>\n",
       "      <th>bathrooms</th>\n",
       "      <th>area</th>\n",
       "      <th>taxvalue</th>\n",
       "      <th>yearbuilt</th>\n",
       "      <th>taxamount</th>\n",
       "      <th>county</th>\n",
       "    </tr>\n",
       "  </thead>\n",
       "  <tbody>\n",
       "    <tr>\n",
       "      <th>4</th>\n",
       "      <td>4.0</td>\n",
       "      <td>2.0</td>\n",
       "      <td>3633.0</td>\n",
       "      <td>296425.0</td>\n",
       "      <td>2005.0</td>\n",
       "      <td>6941.39</td>\n",
       "      <td>6037.0</td>\n",
       "    </tr>\n",
       "    <tr>\n",
       "      <th>6</th>\n",
       "      <td>3.0</td>\n",
       "      <td>4.0</td>\n",
       "      <td>1620.0</td>\n",
       "      <td>847770.0</td>\n",
       "      <td>2011.0</td>\n",
       "      <td>10244.94</td>\n",
       "      <td>6037.0</td>\n",
       "    </tr>\n",
       "    <tr>\n",
       "      <th>7</th>\n",
       "      <td>3.0</td>\n",
       "      <td>2.0</td>\n",
       "      <td>2077.0</td>\n",
       "      <td>646760.0</td>\n",
       "      <td>1926.0</td>\n",
       "      <td>7924.68</td>\n",
       "      <td>6037.0</td>\n",
       "    </tr>\n",
       "    <tr>\n",
       "      <th>11</th>\n",
       "      <td>0.0</td>\n",
       "      <td>0.0</td>\n",
       "      <td>1200.0</td>\n",
       "      <td>5328.0</td>\n",
       "      <td>1972.0</td>\n",
       "      <td>91.60</td>\n",
       "      <td>6037.0</td>\n",
       "    </tr>\n",
       "    <tr>\n",
       "      <th>14</th>\n",
       "      <td>0.0</td>\n",
       "      <td>0.0</td>\n",
       "      <td>171.0</td>\n",
       "      <td>6920.0</td>\n",
       "      <td>1973.0</td>\n",
       "      <td>255.17</td>\n",
       "      <td>6037.0</td>\n",
       "    </tr>\n",
       "  </tbody>\n",
       "</table>\n",
       "</div>"
      ],
      "text/plain": [
       "    bedrooms  bathrooms    area  taxvalue  yearbuilt  taxamount  county\n",
       "4        4.0        2.0  3633.0  296425.0     2005.0    6941.39  6037.0\n",
       "6        3.0        4.0  1620.0  847770.0     2011.0   10244.94  6037.0\n",
       "7        3.0        2.0  2077.0  646760.0     1926.0    7924.68  6037.0\n",
       "11       0.0        0.0  1200.0    5328.0     1972.0      91.60  6037.0\n",
       "14       0.0        0.0   171.0    6920.0     1973.0     255.17  6037.0"
      ]
     },
     "execution_count": 26,
     "metadata": {},
     "output_type": "execute_result"
    }
   ],
   "source": [
    "df.head()"
   ]
  },
  {
   "cell_type": "code",
   "execution_count": 27,
   "id": "5d81bd37-5a7b-4cb3-a1cc-c3ed14439cb5",
   "metadata": {
    "tags": []
   },
   "outputs": [
    {
     "name": "stdout",
     "output_type": "stream",
     "text": [
      "bedrooms\n",
      "bedrooms\n",
      "0.0       4397\n",
      "1.0      22895\n",
      "2.0     334221\n",
      "3.0     962944\n",
      "4.0     633608\n",
      "5.0     150671\n",
      "6.0      25117\n",
      "7.0       4792\n",
      "8.0       1103\n",
      "9.0        290\n",
      "10.0       118\n",
      "11.0        34\n",
      "12.0        12\n",
      "13.0        15\n",
      "14.0         7\n",
      "15.0         5\n",
      "16.0         2\n",
      "18.0         3\n",
      "25.0         1\n",
      "Name: count, dtype: int64\n",
      "\n",
      "bathrooms\n",
      "bathrooms\n",
      "0.00       4274\n",
      "0.50         16\n",
      "1.00     412582\n",
      "1.50      31157\n",
      "1.75          3\n",
      "2.00     942463\n",
      "2.50     142827\n",
      "3.00     422398\n",
      "3.50      28464\n",
      "4.00      82039\n",
      "4.50      19474\n",
      "5.00      28306\n",
      "5.50       6201\n",
      "6.00      10717\n",
      "6.50       1330\n",
      "7.00       4381\n",
      "7.50        382\n",
      "8.00       1681\n",
      "8.50        108\n",
      "9.00        707\n",
      "9.50         50\n",
      "10.00       322\n",
      "10.50        14\n",
      "11.00       145\n",
      "11.50         3\n",
      "12.00        73\n",
      "12.50         3\n",
      "13.00        39\n",
      "14.00        25\n",
      "14.50         1\n",
      "15.00        17\n",
      "16.00        12\n",
      "17.00         4\n",
      "18.00         8\n",
      "19.00         1\n",
      "19.50         1\n",
      "20.00         6\n",
      "32.00         1\n",
      "Name: count, dtype: int64\n",
      "\n",
      "area\n",
      "area\n",
      "1.0         6\n",
      "2.0         2\n",
      "3.0         7\n",
      "7.0         1\n",
      "10.0        2\n",
      "           ..\n",
      "52503.0     1\n",
      "59220.0     1\n",
      "63692.0     1\n",
      "531118.0    1\n",
      "952576.0    1\n",
      "Name: count, Length: 10557, dtype: int64\n",
      "\n",
      "taxvalue\n",
      "taxvalue\n",
      "22.0          10\n",
      "23.0           6\n",
      "31.0           1\n",
      "46.0           1\n",
      "101.0          1\n",
      "              ..\n",
      "70416358.0     1\n",
      "71067500.0     1\n",
      "83196095.0     1\n",
      "88020448.0     1\n",
      "90188462.0     1\n",
      "Name: count, Length: 588178, dtype: int64\n",
      "\n",
      "yearbuilt\n",
      "yearbuilt\n",
      "1801.0       3\n",
      "1807.0       1\n",
      "1812.0       2\n",
      "1823.0       1\n",
      "1833.0       1\n",
      "          ... \n",
      "2012.0    3431\n",
      "2013.0    4768\n",
      "2014.0    4706\n",
      "2015.0    3551\n",
      "2016.0      97\n",
      "Name: count, Length: 153, dtype: int64\n",
      "\n",
      "taxamount\n",
      "taxamount\n",
      "6.34          1\n",
      "13.36         4\n",
      "13.44         1\n",
      "13.47         4\n",
      "13.48         1\n",
      "             ..\n",
      "824166.91     1\n",
      "841059.04     1\n",
      "994030.96     1\n",
      "1052070.50    1\n",
      "1078101.87    1\n",
      "Name: count, Length: 915868, dtype: int64\n",
      "\n",
      "county\n",
      "county\n",
      "6037.0    1425207\n",
      "6059.0     552057\n",
      "6111.0     162971\n",
      "Name: count, dtype: int64\n",
      "\n"
     ]
    }
   ],
   "source": [
    "#confirm whole numbers\n",
    "for col in df.columns:\n",
    "    print(col)\n",
    "    print(df[col].value_counts().sort_index())\n",
    "    print()"
   ]
  },
  {
   "cell_type": "code",
   "execution_count": 28,
   "id": "be34e233-552e-4334-adb9-cb1398216410",
   "metadata": {
    "tags": []
   },
   "outputs": [
    {
     "data": {
      "text/plain": [
       "True"
      ]
     },
     "execution_count": 28,
     "metadata": {},
     "output_type": "execute_result"
    }
   ],
   "source": [
    "#possibly an easier way to do this... create a lamda function\n",
    "#let's see if there are any fractions in bathrooms\n",
    "has_non_zero_decimal = df['bathrooms'].apply(lambda x: x % 1 != 0)\n",
    "has_non_zero_decimal.any()"
   ]
  },
  {
   "cell_type": "code",
   "execution_count": 29,
   "id": "255548df-9d37-4f57-b8d4-eb7c69c2fba2",
   "metadata": {
    "tags": []
   },
   "outputs": [
    {
     "data": {
      "text/plain": [
       "230034"
      ]
     },
     "execution_count": 29,
     "metadata": {},
     "output_type": "execute_result"
    }
   ],
   "source": [
    "#how many?\n",
    "has_non_zero_decimal.sum()"
   ]
  },
  {
   "cell_type": "code",
   "execution_count": 30,
   "id": "77f86c06-99d5-4784-94dd-301f65098c27",
   "metadata": {
    "tags": []
   },
   "outputs": [
    {
     "data": {
      "text/plain": [
       "0"
      ]
     },
     "execution_count": 30,
     "metadata": {},
     "output_type": "execute_result"
    }
   ],
   "source": [
    "#what about bedrooms?\n",
    "has_non_zero_decimal = df['bedrooms'].apply(lambda x: x % 1 != 0)\n",
    "has_non_zero_decimal.sum()"
   ]
  },
  {
   "cell_type": "code",
   "execution_count": 31,
   "id": "4437c3cd-eda1-4537-94cb-f67cca81b412",
   "metadata": {
    "tags": []
   },
   "outputs": [
    {
     "name": "stdout",
     "output_type": "stream",
     "text": [
      "Count of Non-Zero Decimal Places in Each Column:\n",
      "bedrooms: 0\n",
      "bathrooms: 230034\n",
      "area: 0\n",
      "taxvalue: 0\n",
      "yearbuilt: 0\n",
      "taxamount: 2111620\n",
      "county: 0\n"
     ]
    }
   ],
   "source": [
    "#put it all together for all the columns \n",
    "##so we can make sure those floats should be integers\n",
    "\n",
    "#include these columns\n",
    "columns_to_check = ['bedrooms', 'bathrooms', 'area', 'taxvalue', 'yearbuilt', 'taxamount', 'county']\n",
    "\n",
    "# create a dictionary to store the count of non-zero decimal places for each column\n",
    "count_of_non_zero_decimal = {}\n",
    "\n",
    "# iterate through columns and check for non-zero decimal places\n",
    "for column in columns_to_check:\n",
    "    has_non_zero_decimal = (df[column] % 1 != 0).sum()\n",
    "    \n",
    "    # store the count in the dictionary\n",
    "    count_of_non_zero_decimal[column] = has_non_zero_decimal\n",
    "\n",
    "# display the count of non-zero decimal places for each column\n",
    "print(\"Count of Non-Zero Decimal Places in Each Column:\")\n",
    "for column, count in count_of_non_zero_decimal.items():\n",
    "    print(f\"{column}: {count}\")\n"
   ]
  },
  {
   "cell_type": "code",
   "execution_count": 32,
   "id": "c62d3ee2-c313-4bf2-976b-b4cb9024e14c",
   "metadata": {
    "tags": []
   },
   "outputs": [],
   "source": [
    "#columns we want to be integers\n",
    "make_ints = ['bedrooms','area','taxvalue','yearbuilt','county']"
   ]
  },
  {
   "cell_type": "code",
   "execution_count": 33,
   "id": "ecdd7fb3-0ccf-4329-8804-bfa012c216c9",
   "metadata": {
    "tags": []
   },
   "outputs": [],
   "source": [
    "#look through them to change the datatype\n",
    "for col in make_ints:\n",
    "    df[col] = df[col].astype(int)"
   ]
  },
  {
   "cell_type": "code",
   "execution_count": 34,
   "id": "759b70f8-11be-49b1-b30e-37a76e401e7c",
   "metadata": {
    "tags": []
   },
   "outputs": [
    {
     "data": {
      "text/plain": [
       "bedrooms       int64\n",
       "bathrooms    float64\n",
       "area           int64\n",
       "taxvalue       int64\n",
       "yearbuilt      int64\n",
       "taxamount    float64\n",
       "county         int64\n",
       "dtype: object"
      ]
     },
     "execution_count": 34,
     "metadata": {},
     "output_type": "execute_result"
    }
   ],
   "source": [
    "df.dtypes"
   ]
  },
  {
   "cell_type": "code",
   "execution_count": 35,
   "id": "f7900890-bfd8-41c9-be4b-a05eab70f436",
   "metadata": {
    "tags": []
   },
   "outputs": [
    {
     "data": {
      "text/html": [
       "<div>\n",
       "<style scoped>\n",
       "    .dataframe tbody tr th:only-of-type {\n",
       "        vertical-align: middle;\n",
       "    }\n",
       "\n",
       "    .dataframe tbody tr th {\n",
       "        vertical-align: top;\n",
       "    }\n",
       "\n",
       "    .dataframe thead th {\n",
       "        text-align: right;\n",
       "    }\n",
       "</style>\n",
       "<table border=\"1\" class=\"dataframe\">\n",
       "  <thead>\n",
       "    <tr style=\"text-align: right;\">\n",
       "      <th></th>\n",
       "      <th>bedrooms</th>\n",
       "      <th>bathrooms</th>\n",
       "      <th>area</th>\n",
       "      <th>taxvalue</th>\n",
       "      <th>yearbuilt</th>\n",
       "      <th>taxamount</th>\n",
       "      <th>county</th>\n",
       "    </tr>\n",
       "  </thead>\n",
       "  <tbody>\n",
       "    <tr>\n",
       "      <th>4</th>\n",
       "      <td>4</td>\n",
       "      <td>2.0</td>\n",
       "      <td>3633</td>\n",
       "      <td>296425</td>\n",
       "      <td>2005</td>\n",
       "      <td>6941.39</td>\n",
       "      <td>6037</td>\n",
       "    </tr>\n",
       "    <tr>\n",
       "      <th>6</th>\n",
       "      <td>3</td>\n",
       "      <td>4.0</td>\n",
       "      <td>1620</td>\n",
       "      <td>847770</td>\n",
       "      <td>2011</td>\n",
       "      <td>10244.94</td>\n",
       "      <td>6037</td>\n",
       "    </tr>\n",
       "    <tr>\n",
       "      <th>7</th>\n",
       "      <td>3</td>\n",
       "      <td>2.0</td>\n",
       "      <td>2077</td>\n",
       "      <td>646760</td>\n",
       "      <td>1926</td>\n",
       "      <td>7924.68</td>\n",
       "      <td>6037</td>\n",
       "    </tr>\n",
       "    <tr>\n",
       "      <th>11</th>\n",
       "      <td>0</td>\n",
       "      <td>0.0</td>\n",
       "      <td>1200</td>\n",
       "      <td>5328</td>\n",
       "      <td>1972</td>\n",
       "      <td>91.60</td>\n",
       "      <td>6037</td>\n",
       "    </tr>\n",
       "    <tr>\n",
       "      <th>14</th>\n",
       "      <td>0</td>\n",
       "      <td>0.0</td>\n",
       "      <td>171</td>\n",
       "      <td>6920</td>\n",
       "      <td>1973</td>\n",
       "      <td>255.17</td>\n",
       "      <td>6037</td>\n",
       "    </tr>\n",
       "  </tbody>\n",
       "</table>\n",
       "</div>"
      ],
      "text/plain": [
       "    bedrooms  bathrooms  area  taxvalue  yearbuilt  taxamount  county\n",
       "4          4        2.0  3633    296425       2005    6941.39    6037\n",
       "6          3        4.0  1620    847770       2011   10244.94    6037\n",
       "7          3        2.0  2077    646760       1926    7924.68    6037\n",
       "11         0        0.0  1200      5328       1972      91.60    6037\n",
       "14         0        0.0   171      6920       1973     255.17    6037"
      ]
     },
     "execution_count": 35,
     "metadata": {},
     "output_type": "execute_result"
    }
   ],
   "source": [
    "df.head()"
   ]
  },
  {
   "cell_type": "code",
   "execution_count": 36,
   "id": "3651b3ff-a8ec-4368-89c1-64c171c4c9ad",
   "metadata": {
    "tags": []
   },
   "outputs": [],
   "source": [
    "#rename those columns\n",
    "df.county = df.county.map({6037:'LA',6059:'Orange',6111:'Ventura'})"
   ]
  },
  {
   "cell_type": "code",
   "execution_count": 37,
   "id": "2021f4c2-9e90-4431-bd39-93ee08d18beb",
   "metadata": {
    "tags": []
   },
   "outputs": [
    {
     "data": {
      "text/html": [
       "<div>\n",
       "<style scoped>\n",
       "    .dataframe tbody tr th:only-of-type {\n",
       "        vertical-align: middle;\n",
       "    }\n",
       "\n",
       "    .dataframe tbody tr th {\n",
       "        vertical-align: top;\n",
       "    }\n",
       "\n",
       "    .dataframe thead th {\n",
       "        text-align: right;\n",
       "    }\n",
       "</style>\n",
       "<table border=\"1\" class=\"dataframe\">\n",
       "  <thead>\n",
       "    <tr style=\"text-align: right;\">\n",
       "      <th></th>\n",
       "      <th>bedrooms</th>\n",
       "      <th>bathrooms</th>\n",
       "      <th>area</th>\n",
       "      <th>taxvalue</th>\n",
       "      <th>yearbuilt</th>\n",
       "      <th>taxamount</th>\n",
       "      <th>county</th>\n",
       "    </tr>\n",
       "  </thead>\n",
       "  <tbody>\n",
       "    <tr>\n",
       "      <th>1658398</th>\n",
       "      <td>3</td>\n",
       "      <td>2.5</td>\n",
       "      <td>1953</td>\n",
       "      <td>1105607</td>\n",
       "      <td>1988</td>\n",
       "      <td>12454.60</td>\n",
       "      <td>Ventura</td>\n",
       "    </tr>\n",
       "    <tr>\n",
       "      <th>996259</th>\n",
       "      <td>2</td>\n",
       "      <td>1.0</td>\n",
       "      <td>654</td>\n",
       "      <td>174348</td>\n",
       "      <td>1923</td>\n",
       "      <td>2097.80</td>\n",
       "      <td>LA</td>\n",
       "    </tr>\n",
       "    <tr>\n",
       "      <th>1677412</th>\n",
       "      <td>4</td>\n",
       "      <td>1.5</td>\n",
       "      <td>1446</td>\n",
       "      <td>514660</td>\n",
       "      <td>1962</td>\n",
       "      <td>5922.56</td>\n",
       "      <td>Orange</td>\n",
       "    </tr>\n",
       "    <tr>\n",
       "      <th>1573484</th>\n",
       "      <td>4</td>\n",
       "      <td>3.0</td>\n",
       "      <td>2277</td>\n",
       "      <td>274057</td>\n",
       "      <td>1951</td>\n",
       "      <td>3069.59</td>\n",
       "      <td>LA</td>\n",
       "    </tr>\n",
       "    <tr>\n",
       "      <th>122430</th>\n",
       "      <td>3</td>\n",
       "      <td>2.0</td>\n",
       "      <td>1357</td>\n",
       "      <td>388363</td>\n",
       "      <td>1953</td>\n",
       "      <td>4540.15</td>\n",
       "      <td>LA</td>\n",
       "    </tr>\n",
       "    <tr>\n",
       "      <th>1693704</th>\n",
       "      <td>5</td>\n",
       "      <td>2.0</td>\n",
       "      <td>2288</td>\n",
       "      <td>81295</td>\n",
       "      <td>1898</td>\n",
       "      <td>1097.82</td>\n",
       "      <td>LA</td>\n",
       "    </tr>\n",
       "    <tr>\n",
       "      <th>946536</th>\n",
       "      <td>4</td>\n",
       "      <td>3.5</td>\n",
       "      <td>3642</td>\n",
       "      <td>687360</td>\n",
       "      <td>1990</td>\n",
       "      <td>6706.48</td>\n",
       "      <td>Orange</td>\n",
       "    </tr>\n",
       "    <tr>\n",
       "      <th>1940045</th>\n",
       "      <td>4</td>\n",
       "      <td>2.0</td>\n",
       "      <td>1958</td>\n",
       "      <td>179688</td>\n",
       "      <td>1989</td>\n",
       "      <td>2886.48</td>\n",
       "      <td>LA</td>\n",
       "    </tr>\n",
       "    <tr>\n",
       "      <th>40526</th>\n",
       "      <td>3</td>\n",
       "      <td>2.5</td>\n",
       "      <td>1632</td>\n",
       "      <td>516867</td>\n",
       "      <td>1957</td>\n",
       "      <td>6130.76</td>\n",
       "      <td>Orange</td>\n",
       "    </tr>\n",
       "    <tr>\n",
       "      <th>1351057</th>\n",
       "      <td>3</td>\n",
       "      <td>2.0</td>\n",
       "      <td>1640</td>\n",
       "      <td>514071</td>\n",
       "      <td>1950</td>\n",
       "      <td>6320.29</td>\n",
       "      <td>LA</td>\n",
       "    </tr>\n",
       "  </tbody>\n",
       "</table>\n",
       "</div>"
      ],
      "text/plain": [
       "         bedrooms  bathrooms  area  taxvalue  yearbuilt  taxamount   county\n",
       "1658398         3        2.5  1953   1105607       1988   12454.60  Ventura\n",
       "996259          2        1.0   654    174348       1923    2097.80       LA\n",
       "1677412         4        1.5  1446    514660       1962    5922.56   Orange\n",
       "1573484         4        3.0  2277    274057       1951    3069.59       LA\n",
       "122430          3        2.0  1357    388363       1953    4540.15       LA\n",
       "1693704         5        2.0  2288     81295       1898    1097.82       LA\n",
       "946536          4        3.5  3642    687360       1990    6706.48   Orange\n",
       "1940045         4        2.0  1958    179688       1989    2886.48       LA\n",
       "40526           3        2.5  1632    516867       1957    6130.76   Orange\n",
       "1351057         3        2.0  1640    514071       1950    6320.29       LA"
      ]
     },
     "execution_count": 37,
     "metadata": {},
     "output_type": "execute_result"
    }
   ],
   "source": [
    "df.sample(10)"
   ]
  },
  {
   "cell_type": "markdown",
   "id": "e8df99dd-6a2a-4a95-b75e-c20d2099f3ba",
   "metadata": {},
   "source": [
    "### Visualize Our Data"
   ]
  },
  {
   "cell_type": "code",
   "execution_count": 38,
   "id": "4ace2196-77e2-4cd0-b91a-0dc2412dae29",
   "metadata": {
    "tags": []
   },
   "outputs": [
    {
     "data": {
      "text/html": [
       "<div>\n",
       "<style scoped>\n",
       "    .dataframe tbody tr th:only-of-type {\n",
       "        vertical-align: middle;\n",
       "    }\n",
       "\n",
       "    .dataframe tbody tr th {\n",
       "        vertical-align: top;\n",
       "    }\n",
       "\n",
       "    .dataframe thead th {\n",
       "        text-align: right;\n",
       "    }\n",
       "</style>\n",
       "<table border=\"1\" class=\"dataframe\">\n",
       "  <thead>\n",
       "    <tr style=\"text-align: right;\">\n",
       "      <th></th>\n",
       "      <th>bedrooms</th>\n",
       "      <th>bathrooms</th>\n",
       "      <th>area</th>\n",
       "      <th>taxvalue</th>\n",
       "      <th>yearbuilt</th>\n",
       "      <th>taxamount</th>\n",
       "      <th>county</th>\n",
       "    </tr>\n",
       "  </thead>\n",
       "  <tbody>\n",
       "    <tr>\n",
       "      <th>4</th>\n",
       "      <td>4</td>\n",
       "      <td>2.0</td>\n",
       "      <td>3633</td>\n",
       "      <td>296425</td>\n",
       "      <td>2005</td>\n",
       "      <td>6941.39</td>\n",
       "      <td>LA</td>\n",
       "    </tr>\n",
       "    <tr>\n",
       "      <th>6</th>\n",
       "      <td>3</td>\n",
       "      <td>4.0</td>\n",
       "      <td>1620</td>\n",
       "      <td>847770</td>\n",
       "      <td>2011</td>\n",
       "      <td>10244.94</td>\n",
       "      <td>LA</td>\n",
       "    </tr>\n",
       "    <tr>\n",
       "      <th>7</th>\n",
       "      <td>3</td>\n",
       "      <td>2.0</td>\n",
       "      <td>2077</td>\n",
       "      <td>646760</td>\n",
       "      <td>1926</td>\n",
       "      <td>7924.68</td>\n",
       "      <td>LA</td>\n",
       "    </tr>\n",
       "    <tr>\n",
       "      <th>11</th>\n",
       "      <td>0</td>\n",
       "      <td>0.0</td>\n",
       "      <td>1200</td>\n",
       "      <td>5328</td>\n",
       "      <td>1972</td>\n",
       "      <td>91.60</td>\n",
       "      <td>LA</td>\n",
       "    </tr>\n",
       "    <tr>\n",
       "      <th>14</th>\n",
       "      <td>0</td>\n",
       "      <td>0.0</td>\n",
       "      <td>171</td>\n",
       "      <td>6920</td>\n",
       "      <td>1973</td>\n",
       "      <td>255.17</td>\n",
       "      <td>LA</td>\n",
       "    </tr>\n",
       "  </tbody>\n",
       "</table>\n",
       "</div>"
      ],
      "text/plain": [
       "    bedrooms  bathrooms  area  taxvalue  yearbuilt  taxamount county\n",
       "4          4        2.0  3633    296425       2005    6941.39     LA\n",
       "6          3        4.0  1620    847770       2011   10244.94     LA\n",
       "7          3        2.0  2077    646760       1926    7924.68     LA\n",
       "11         0        0.0  1200      5328       1972      91.60     LA\n",
       "14         0        0.0   171      6920       1973     255.17     LA"
      ]
     },
     "execution_count": 38,
     "metadata": {},
     "output_type": "execute_result"
    }
   ],
   "source": [
    "df.head()"
   ]
  },
  {
   "cell_type": "code",
   "execution_count": 39,
   "id": "9185602c-bf28-4b97-88dd-1c173625013f",
   "metadata": {
    "tags": []
   },
   "outputs": [
    {
     "data": {
      "image/png": "[encoded data removed]",
      "text/plain": [
       "<Figure size 1600x600 with 7 Axes>"
      ]
     },
     "metadata": {},
     "output_type": "display_data"
    }
   ],
   "source": [
    "plt.figure(figsize=(16, 6))\n",
    "\n",
    "for i, col in enumerate(df.columns):\n",
    "\n",
    "    # i starts at 0, but plot nos should start at 1\n",
    "    plot_number = i + 1 \n",
    "\n",
    "    # Create subplot.\n",
    "    plt.subplot(2, 4, plot_number)\n",
    "\n",
    "    # Title with column name.\n",
    "    plt.title(col)\n",
    "\n",
    "    # Display boxplot for column.\n",
    "    plt.hist(df[col])\n",
    "\n",
    "plt.show()"
   ]
  },
  {
   "cell_type": "code",
   "execution_count": 40,
   "id": "fba8de90-38fa-444a-95d2-6a386300f924",
   "metadata": {
    "tags": []
   },
   "outputs": [
    {
     "name": "stdout",
     "output_type": "stream",
     "text": [
      "bedrooms\n"
     ]
    },
    {
     "data": {
      "image/png": "[encoded data removed]",
      "text/plain": [
       "<Figure size 640x480 with 1 Axes>"
      ]
     },
     "metadata": {},
     "output_type": "display_data"
    },
    {
     "name": "stdout",
     "output_type": "stream",
     "text": [
      "bedrooms\n",
      "0       4397\n",
      "1      22895\n",
      "2     334221\n",
      "3     962944\n",
      "4     633608\n",
      "5     150671\n",
      "6      25117\n",
      "7       4792\n",
      "8       1103\n",
      "9        290\n",
      "10       118\n",
      "11        34\n",
      "12        12\n",
      "13        15\n",
      "14         7\n",
      "15         5\n",
      "16         2\n",
      "18         3\n",
      "25         1\n",
      "Name: count, dtype: int64\n",
      "\n",
      "bathrooms\n"
     ]
    },
    {
     "data": {
      "image/png": "[encoded data removed]",
      "text/plain": [
       "<Figure size 640x480 with 1 Axes>"
      ]
     },
     "metadata": {},
     "output_type": "display_data"
    },
    {
     "name": "stdout",
     "output_type": "stream",
     "text": [
      "bathrooms\n",
      "0.00       4274\n",
      "0.50         16\n",
      "1.00     412582\n",
      "1.50      31157\n",
      "1.75          3\n",
      "2.00     942463\n",
      "2.50     142827\n",
      "3.00     422398\n",
      "3.50      28464\n",
      "4.00      82039\n",
      "4.50      19474\n",
      "5.00      28306\n",
      "5.50       6201\n",
      "6.00      10717\n",
      "6.50       1330\n",
      "7.00       4381\n",
      "7.50        382\n",
      "8.00       1681\n",
      "8.50        108\n",
      "9.00        707\n",
      "9.50         50\n",
      "10.00       322\n",
      "10.50        14\n",
      "11.00       145\n",
      "11.50         3\n",
      "12.00        73\n",
      "12.50         3\n",
      "13.00        39\n",
      "14.00        25\n",
      "14.50         1\n",
      "15.00        17\n",
      "16.00        12\n",
      "17.00         4\n",
      "18.00         8\n",
      "19.00         1\n",
      "19.50         1\n",
      "20.00         6\n",
      "32.00         1\n",
      "Name: count, dtype: int64\n",
      "\n",
      "area\n"
     ]
    },
    {
     "data": {
      "image/png": "[encoded data removed]",
      "text/plain": [
       "<Figure size 640x480 with 1 Axes>"
      ]
     },
     "metadata": {},
     "output_type": "display_data"
    },
    {
     "name": "stdout",
     "output_type": "stream",
     "text": [
      "area\n",
      "1         6\n",
      "2         2\n",
      "3         7\n",
      "7         1\n",
      "10        2\n",
      "         ..\n",
      "52503     1\n",
      "59220     1\n",
      "63692     1\n",
      "531118    1\n",
      "952576    1\n",
      "Name: count, Length: 10557, dtype: int64\n",
      "\n",
      "taxvalue\n"
     ]
    },
    {
     "data": {
      "image/png": "[encoded data removed]",
      "text/plain": [
       "<Figure size 640x480 with 1 Axes>"
      ]
     },
     "metadata": {},
     "output_type": "display_data"
    },
    {
     "name": "stdout",
     "output_type": "stream",
     "text": [
      "taxvalue\n",
      "22          10\n",
      "23           6\n",
      "31           1\n",
      "46           1\n",
      "101          1\n",
      "            ..\n",
      "70416358     1\n",
      "71067500     1\n",
      "83196095     1\n",
      "88020448     1\n",
      "90188462     1\n",
      "Name: count, Length: 588178, dtype: int64\n",
      "\n",
      "yearbuilt\n"
     ]
    },
    {
     "data": {
      "image/png": "[encoded data removed]",
      "text/plain": [
       "<Figure size 640x480 with 1 Axes>"
      ]
     },
     "metadata": {},
     "output_type": "display_data"
    },
    {
     "name": "stdout",
     "output_type": "stream",
     "text": [
      "yearbuilt\n",
      "1801       3\n",
      "1807       1\n",
      "1812       2\n",
      "1823       1\n",
      "1833       1\n",
      "        ... \n",
      "2012    3431\n",
      "2013    4768\n",
      "2014    4706\n",
      "2015    3551\n",
      "2016      97\n",
      "Name: count, Length: 153, dtype: int64\n",
      "\n",
      "taxamount\n"
     ]
    },
    {
     "data": {
      "image/png": "[encoded data removed]",
      "text/plain": [
       "<Figure size 640x480 with 1 Axes>"
      ]
     },
     "metadata": {},
     "output_type": "display_data"
    },
    {
     "name": "stdout",
     "output_type": "stream",
     "text": [
      "taxamount\n",
      "6.34          1\n",
      "13.36         4\n",
      "13.44         1\n",
      "13.47         4\n",
      "13.48         1\n",
      "             ..\n",
      "824166.91     1\n",
      "841059.04     1\n",
      "994030.96     1\n",
      "1052070.50    1\n",
      "1078101.87    1\n",
      "Name: count, Length: 915868, dtype: int64\n",
      "\n"
     ]
    }
   ],
   "source": [
    "for col in df.columns[:-1]:\n",
    "    print(col)\n",
    "    sns.boxplot(data=df, x=col)\n",
    "    plt.show()\n",
    "    \n",
    "    print(df[col].value_counts().sort_index())\n",
    "    print()"
   ]
  },
  {
   "cell_type": "markdown",
   "id": "9d34a1b5-7ce2-418a-8f6f-88565cd6a57e",
   "metadata": {
    "tags": []
   },
   "source": [
    "## #3. Store all of the necessary functions to automate your process from acquiring the data to returning a cleaned dataframe with no missing values in your wrangle.py file. Name your final function wrangle_zillow."
   ]
  },
  {
   "cell_type": "code",
   "execution_count": 41,
   "id": "54d861d7-64b4-412f-b9d5-d978ac55f3ec",
   "metadata": {
    "tags": []
   },
   "outputs": [],
   "source": [
    "def get_zillow_data():\n",
    "    '''\n",
    "    This function acquires zillow.csv it is available\n",
    "    otherwise, it makes the SQL connection and uses the query provided\n",
    "    to read in the dataframe from SQL.\n",
    "    If they csv is not present, it will write one.\n",
    "    '''\n",
    "    filename = \"zillow.csv\"\n",
    "\n",
    "    if os.path.isfile(filename):\n",
    "\n",
    "        return pd.read_csv(filename, index_col=0)\n",
    "    else:\n",
    "        # Create the url\n",
    "        url = env.get_db_url('zillow')\n",
    "        \n",
    "        sql_query = '''\n",
    "            SELECT bedroomcnt, bathroomcnt, calculatedfinishedsquarefeet, taxvaluedollarcnt, yearbuilt, taxamount, fips\n",
    "            FROM properties_2017\n",
    "            WHERE propertylandusetypeid = 261'''\n",
    "\n",
    "        # Read the SQL query into a dataframe\n",
    "        df = pd.read_sql(zillow_query, url)\n",
    "\n",
    "        # Write that dataframe to disk for later. Called \"caching\" the data for later.\n",
    "        df.to_csv(filename)\n",
    "\n",
    "        # Return the dataframe to the calling code\n",
    "        return df"
   ]
  },
  {
   "cell_type": "code",
   "execution_count": 42,
   "id": "db334c05-bd74-4a0f-9cb4-f041e1457630",
   "metadata": {
    "tags": []
   },
   "outputs": [],
   "source": [
    "def prep_zillow(df):\n",
    "    '''\n",
    "    This function takes in a dataframe\n",
    "    renames the columns and drops nulls values\n",
    "    Additionally it changes datatypes for appropriate columns\n",
    "    and renames fips to actual county names.\n",
    "    Then returns a cleaned dataframe\n",
    "    '''\n",
    "    df = df.rename(columns = {'bedroomcnt':'bedrooms',\n",
    "                     'bathroomcnt':'bathrooms',\n",
    "                     'calculatedfinishedsquarefeet':'area',\n",
    "                     'taxvaluedollarcnt':'taxvalue',\n",
    "                     'fips':'county'})\n",
    "    \n",
    "    df = df.dropna()\n",
    "    \n",
    "    make_ints = ['bedrooms','area','taxvalue','yearbuilt']\n",
    "\n",
    "    for col in make_ints:\n",
    "        df[col] = df[col].astype(int)\n",
    "        \n",
    "    df.county = df.county.map({6037:'LA',6059:'Orange',6111:'Ventura'})\n",
    "    \n",
    "    return df"
   ]
  },
  {
   "cell_type": "code",
   "execution_count": 43,
   "id": "1a647a34-8445-4a6f-92cb-57c72fb45d1c",
   "metadata": {
    "tags": []
   },
   "outputs": [],
   "source": [
    "df = get_zillow_data()"
   ]
  },
  {
   "cell_type": "code",
   "execution_count": 44,
   "id": "cc3b8333-93e4-4d65-96be-a60abfe846ac",
   "metadata": {
    "tags": []
   },
   "outputs": [
    {
     "data": {
      "text/html": [
       "<div>\n",
       "<style scoped>\n",
       "    .dataframe tbody tr th:only-of-type {\n",
       "        vertical-align: middle;\n",
       "    }\n",
       "\n",
       "    .dataframe tbody tr th {\n",
       "        vertical-align: top;\n",
       "    }\n",
       "\n",
       "    .dataframe thead th {\n",
       "        text-align: right;\n",
       "    }\n",
       "</style>\n",
       "<table border=\"1\" class=\"dataframe\">\n",
       "  <thead>\n",
       "    <tr style=\"text-align: right;\">\n",
       "      <th></th>\n",
       "      <th>bedroomcnt</th>\n",
       "      <th>bathroomcnt</th>\n",
       "      <th>calculatedfinishedsquarefeet</th>\n",
       "      <th>taxvaluedollarcnt</th>\n",
       "      <th>yearbuilt</th>\n",
       "      <th>taxamount</th>\n",
       "      <th>fips</th>\n",
       "    </tr>\n",
       "  </thead>\n",
       "  <tbody>\n",
       "    <tr>\n",
       "      <th>0</th>\n",
       "      <td>0.0</td>\n",
       "      <td>0.0</td>\n",
       "      <td>NaN</td>\n",
       "      <td>27516.0</td>\n",
       "      <td>NaN</td>\n",
       "      <td>NaN</td>\n",
       "      <td>6037.0</td>\n",
       "    </tr>\n",
       "    <tr>\n",
       "      <th>1</th>\n",
       "      <td>0.0</td>\n",
       "      <td>0.0</td>\n",
       "      <td>NaN</td>\n",
       "      <td>10.0</td>\n",
       "      <td>NaN</td>\n",
       "      <td>NaN</td>\n",
       "      <td>6037.0</td>\n",
       "    </tr>\n",
       "    <tr>\n",
       "      <th>2</th>\n",
       "      <td>0.0</td>\n",
       "      <td>0.0</td>\n",
       "      <td>NaN</td>\n",
       "      <td>10.0</td>\n",
       "      <td>NaN</td>\n",
       "      <td>NaN</td>\n",
       "      <td>6037.0</td>\n",
       "    </tr>\n",
       "    <tr>\n",
       "      <th>3</th>\n",
       "      <td>0.0</td>\n",
       "      <td>0.0</td>\n",
       "      <td>NaN</td>\n",
       "      <td>2108.0</td>\n",
       "      <td>NaN</td>\n",
       "      <td>174.21</td>\n",
       "      <td>6037.0</td>\n",
       "    </tr>\n",
       "    <tr>\n",
       "      <th>4</th>\n",
       "      <td>4.0</td>\n",
       "      <td>2.0</td>\n",
       "      <td>3633.0</td>\n",
       "      <td>296425.0</td>\n",
       "      <td>2005.0</td>\n",
       "      <td>6941.39</td>\n",
       "      <td>6037.0</td>\n",
       "    </tr>\n",
       "  </tbody>\n",
       "</table>\n",
       "</div>"
      ],
      "text/plain": [
       "   bedroomcnt  bathroomcnt  calculatedfinishedsquarefeet  taxvaluedollarcnt  \\\n",
       "0         0.0          0.0                           NaN            27516.0   \n",
       "1         0.0          0.0                           NaN               10.0   \n",
       "2         0.0          0.0                           NaN               10.0   \n",
       "3         0.0          0.0                           NaN             2108.0   \n",
       "4         4.0          2.0                        3633.0           296425.0   \n",
       "\n",
       "   yearbuilt  taxamount    fips  \n",
       "0        NaN        NaN  6037.0  \n",
       "1        NaN        NaN  6037.0  \n",
       "2        NaN        NaN  6037.0  \n",
       "3        NaN     174.21  6037.0  \n",
       "4     2005.0    6941.39  6037.0  "
      ]
     },
     "execution_count": 44,
     "metadata": {},
     "output_type": "execute_result"
    }
   ],
   "source": [
    "df.head()"
   ]
  },
  {
   "cell_type": "code",
   "execution_count": 45,
   "id": "917ae67a-6e49-48a4-bf5e-5021690c704f",
   "metadata": {
    "tags": []
   },
   "outputs": [],
   "source": [
    "df = w.wrangle_zillow()"
   ]
  },
  {
   "cell_type": "code",
   "execution_count": 46,
   "id": "1a15cb6a-458e-4955-b58a-98e0f5b03b31",
   "metadata": {
    "tags": []
   },
   "outputs": [
    {
     "name": "stdout",
     "output_type": "stream",
     "text": [
      "<class 'pandas.core.frame.DataFrame'>\n",
      "Index: 2140235 entries, 4 to 2152862\n",
      "Data columns (total 7 columns):\n",
      " #   Column      Non-Null Count    Dtype  \n",
      "---  ------      --------------    -----  \n",
      " 0   bedrooms    2140235 non-null  int64  \n",
      " 1   bathrooms   2140235 non-null  float64\n",
      " 2   area        2140235 non-null  int64  \n",
      " 3   tax_value   2140235 non-null  int64  \n",
      " 4   year_built  2140235 non-null  int64  \n",
      " 5   tax_amount  2140235 non-null  float64\n",
      " 6   county      2140235 non-null  object \n",
      "dtypes: float64(2), int64(4), object(1)\n",
      "memory usage: 130.6+ MB\n"
     ]
    }
   ],
   "source": [
    "df.info(verbose=True, show_counts=True)"
   ]
  },
  {
   "cell_type": "code",
   "execution_count": 48,
   "id": "9f11631a-cb16-4eac-a042-231aa5054302",
   "metadata": {
    "tags": []
   },
   "outputs": [
    {
     "name": "stdout",
     "output_type": "stream",
     "text": [
      "train ----> (1284141, 7) 60%\n",
      "validate -> (428047, 7)  20%\n",
      "test -----> (428047, 7)  20%\n"
     ]
    }
   ],
   "source": [
    "train, validate, test = w.splitting_data(df)"
   ]
  },
  {
   "cell_type": "code",
   "execution_count": 49,
   "id": "a6ebe6a3-0c45-4e31-86b0-d75167edc507",
   "metadata": {
    "tags": []
   },
   "outputs": [
    {
     "data": {
      "text/html": [
       "<div>\n",
       "<style scoped>\n",
       "    .dataframe tbody tr th:only-of-type {\n",
       "        vertical-align: middle;\n",
       "    }\n",
       "\n",
       "    .dataframe tbody tr th {\n",
       "        vertical-align: top;\n",
       "    }\n",
       "\n",
       "    .dataframe thead th {\n",
       "        text-align: right;\n",
       "    }\n",
       "</style>\n",
       "<table border=\"1\" class=\"dataframe\">\n",
       "  <thead>\n",
       "    <tr style=\"text-align: right;\">\n",
       "      <th></th>\n",
       "      <th>bedrooms</th>\n",
       "      <th>bathrooms</th>\n",
       "      <th>area</th>\n",
       "      <th>tax_value</th>\n",
       "      <th>year_built</th>\n",
       "      <th>tax_amount</th>\n",
       "      <th>county</th>\n",
       "    </tr>\n",
       "  </thead>\n",
       "  <tbody>\n",
       "    <tr>\n",
       "      <th>462820</th>\n",
       "      <td>5</td>\n",
       "      <td>4.0</td>\n",
       "      <td>3011</td>\n",
       "      <td>710674</td>\n",
       "      <td>2005</td>\n",
       "      <td>7561.14</td>\n",
       "      <td>Ventura</td>\n",
       "    </tr>\n",
       "    <tr>\n",
       "      <th>3880</th>\n",
       "      <td>3</td>\n",
       "      <td>2.0</td>\n",
       "      <td>1682</td>\n",
       "      <td>603333</td>\n",
       "      <td>1961</td>\n",
       "      <td>7086.19</td>\n",
       "      <td>LA</td>\n",
       "    </tr>\n",
       "    <tr>\n",
       "      <th>992263</th>\n",
       "      <td>4</td>\n",
       "      <td>2.0</td>\n",
       "      <td>1433</td>\n",
       "      <td>82804</td>\n",
       "      <td>1954</td>\n",
       "      <td>1134.83</td>\n",
       "      <td>LA</td>\n",
       "    </tr>\n",
       "    <tr>\n",
       "      <th>311722</th>\n",
       "      <td>3</td>\n",
       "      <td>2.5</td>\n",
       "      <td>2001</td>\n",
       "      <td>355444</td>\n",
       "      <td>1999</td>\n",
       "      <td>4174.92</td>\n",
       "      <td>Ventura</td>\n",
       "    </tr>\n",
       "    <tr>\n",
       "      <th>787985</th>\n",
       "      <td>4</td>\n",
       "      <td>2.0</td>\n",
       "      <td>2277</td>\n",
       "      <td>571000</td>\n",
       "      <td>1962</td>\n",
       "      <td>7113.02</td>\n",
       "      <td>LA</td>\n",
       "    </tr>\n",
       "  </tbody>\n",
       "</table>\n",
       "</div>"
      ],
      "text/plain": [
       "        bedrooms  bathrooms  area  tax_value  year_built  tax_amount   county\n",
       "462820         5        4.0  3011     710674        2005     7561.14  Ventura\n",
       "3880           3        2.0  1682     603333        1961     7086.19       LA\n",
       "992263         4        2.0  1433      82804        1954     1134.83       LA\n",
       "311722         3        2.5  2001     355444        1999     4174.92  Ventura\n",
       "787985         4        2.0  2277     571000        1962     7113.02       LA"
      ]
     },
     "execution_count": 49,
     "metadata": {},
     "output_type": "execute_result"
    }
   ],
   "source": [
    "train.head()"
   ]
  }
 ],
 "metadata": {
  "kernelspec": {
   "display_name": "Python 3 (ipykernel)",
   "language": "python",
   "name": "python3"
  },
  "language_info": {
   "codemirror_mode": {
    "name": "ipython",
    "version": 3
   },
   "file_extension": ".py",
   "mimetype": "text/x-python",
   "name": "python",
   "nbconvert_exporter": "python",
   "pygments_lexer": "ipython3",
   "version": "3.11.5"
  }
 },
 "nbformat": 4,
 "nbformat_minor": 5
}
